{
 "cells": [
  {
   "cell_type": "code",
   "execution_count": 1,
   "id": "initial_id",
   "metadata": {
    "collapsed": true,
    "ExecuteTime": {
     "end_time": "2024-03-03T02:21:59.853236Z",
     "start_time": "2024-03-03T02:21:59.666127Z"
    }
   },
   "outputs": [
    {
     "name": "stdout",
     "output_type": "stream",
     "text": [
      "hello\n"
     ]
    }
   ],
   "source": [
    "print('hello')"
   ]
  },
  {
   "cell_type": "code",
   "outputs": [
    {
     "data": {
      "text/plain": "         asOfDate periodType currencyCode  AccountsPayable  \\\nsymbol                                                       \n8267.T 2021-02-28        12M          JPY     1.072409e+12   \n8267.T 2022-02-28        12M          JPY     9.755170e+11   \n8267.T 2023-02-28        12M          JPY     1.039947e+12   \n\n        AccountsReceivable  AdditionalPaidInCapital  \\\nsymbol                                                \n8267.T        1.602703e+12             3.009640e+11   \n8267.T        1.655072e+12             2.962850e+11   \n8267.T        1.877761e+12             2.996670e+11   \n\n        AvailableForSaleSecurities  BuildingsAndImprovements  \\\nsymbol                                                         \n8267.T                2.697060e+11              1.508861e+12   \n8267.T                2.615430e+11              1.539047e+12   \n8267.T                2.639470e+11              1.630449e+12   \n\n        CapitalLeaseObligations  CapitalStock  ...  TotalCapitalization  \\\nsymbol                                         ...                        \n8267.T             3.729430e+11  2.200070e+11  ...         2.922147e+12   \n8267.T             3.743860e+11  2.200070e+11  ...         2.876090e+12   \n8267.T             3.585780e+11  2.200070e+11  ...         3.057152e+12   \n\n           TotalDebt  TotalEquityGrossMinorityInterest  \\\nsymbol                                                   \n8267.T  3.169404e+12                      1.755773e+12   \n8267.T  3.315061e+12                      1.812421e+12   \n8267.T  3.522599e+12                      1.970228e+12   \n\n        TotalLiabilitiesNetMinorityInterest  TotalNonCurrentAssets  \\\nsymbol                                                               \n8267.T                         9.725495e+12           4.345018e+12   \n8267.T                         9.820662e+12           4.447414e+12   \n8267.T                         1.037130e+13           4.659760e+12   \n\n        TotalNonCurrentLiabilitiesNetMinorityInterest  TotalTaxPayable  \\\nsymbol                                                                   \n8267.T                                   2.847024e+12     5.395400e+10   \n8267.T                                   2.772696e+12     4.002700e+10   \n8267.T                                   2.893417e+12     4.834400e+10   \n\n        TreasurySharesNumber  TreasuryStock  WorkingCapital  \nsymbol                                                       \n8267.T            26370000.0   3.660100e+10    2.577760e+11  \n8267.T            25207000.0   3.403000e+10    1.377000e+11  \n8267.T            17080000.0   2.293600e+10    2.038810e+11  \n\n[3 rows x 71 columns]",
      "text/html": "<div>\n<style scoped>\n    .dataframe tbody tr th:only-of-type {\n        vertical-align: middle;\n    }\n\n    .dataframe tbody tr th {\n        vertical-align: top;\n    }\n\n    .dataframe thead th {\n        text-align: right;\n    }\n</style>\n<table border=\"1\" class=\"dataframe\">\n  <thead>\n    <tr style=\"text-align: right;\">\n      <th></th>\n      <th>asOfDate</th>\n      <th>periodType</th>\n      <th>currencyCode</th>\n      <th>AccountsPayable</th>\n      <th>AccountsReceivable</th>\n      <th>AdditionalPaidInCapital</th>\n      <th>AvailableForSaleSecurities</th>\n      <th>BuildingsAndImprovements</th>\n      <th>CapitalLeaseObligations</th>\n      <th>CapitalStock</th>\n      <th>...</th>\n      <th>TotalCapitalization</th>\n      <th>TotalDebt</th>\n      <th>TotalEquityGrossMinorityInterest</th>\n      <th>TotalLiabilitiesNetMinorityInterest</th>\n      <th>TotalNonCurrentAssets</th>\n      <th>TotalNonCurrentLiabilitiesNetMinorityInterest</th>\n      <th>TotalTaxPayable</th>\n      <th>TreasurySharesNumber</th>\n      <th>TreasuryStock</th>\n      <th>WorkingCapital</th>\n    </tr>\n    <tr>\n      <th>symbol</th>\n      <th></th>\n      <th></th>\n      <th></th>\n      <th></th>\n      <th></th>\n      <th></th>\n      <th></th>\n      <th></th>\n      <th></th>\n      <th></th>\n      <th></th>\n      <th></th>\n      <th></th>\n      <th></th>\n      <th></th>\n      <th></th>\n      <th></th>\n      <th></th>\n      <th></th>\n      <th></th>\n      <th></th>\n    </tr>\n  </thead>\n  <tbody>\n    <tr>\n      <th>8267.T</th>\n      <td>2021-02-28</td>\n      <td>12M</td>\n      <td>JPY</td>\n      <td>1.072409e+12</td>\n      <td>1.602703e+12</td>\n      <td>3.009640e+11</td>\n      <td>2.697060e+11</td>\n      <td>1.508861e+12</td>\n      <td>3.729430e+11</td>\n      <td>2.200070e+11</td>\n      <td>...</td>\n      <td>2.922147e+12</td>\n      <td>3.169404e+12</td>\n      <td>1.755773e+12</td>\n      <td>9.725495e+12</td>\n      <td>4.345018e+12</td>\n      <td>2.847024e+12</td>\n      <td>5.395400e+10</td>\n      <td>26370000.0</td>\n      <td>3.660100e+10</td>\n      <td>2.577760e+11</td>\n    </tr>\n    <tr>\n      <th>8267.T</th>\n      <td>2022-02-28</td>\n      <td>12M</td>\n      <td>JPY</td>\n      <td>9.755170e+11</td>\n      <td>1.655072e+12</td>\n      <td>2.962850e+11</td>\n      <td>2.615430e+11</td>\n      <td>1.539047e+12</td>\n      <td>3.743860e+11</td>\n      <td>2.200070e+11</td>\n      <td>...</td>\n      <td>2.876090e+12</td>\n      <td>3.315061e+12</td>\n      <td>1.812421e+12</td>\n      <td>9.820662e+12</td>\n      <td>4.447414e+12</td>\n      <td>2.772696e+12</td>\n      <td>4.002700e+10</td>\n      <td>25207000.0</td>\n      <td>3.403000e+10</td>\n      <td>1.377000e+11</td>\n    </tr>\n    <tr>\n      <th>8267.T</th>\n      <td>2023-02-28</td>\n      <td>12M</td>\n      <td>JPY</td>\n      <td>1.039947e+12</td>\n      <td>1.877761e+12</td>\n      <td>2.996670e+11</td>\n      <td>2.639470e+11</td>\n      <td>1.630449e+12</td>\n      <td>3.585780e+11</td>\n      <td>2.200070e+11</td>\n      <td>...</td>\n      <td>3.057152e+12</td>\n      <td>3.522599e+12</td>\n      <td>1.970228e+12</td>\n      <td>1.037130e+13</td>\n      <td>4.659760e+12</td>\n      <td>2.893417e+12</td>\n      <td>4.834400e+10</td>\n      <td>17080000.0</td>\n      <td>2.293600e+10</td>\n      <td>2.038810e+11</td>\n    </tr>\n  </tbody>\n</table>\n<p>3 rows × 71 columns</p>\n</div>"
     },
     "metadata": {},
     "output_type": "display_data"
    }
   ],
   "source": [
    "# ライブラリを読み込む\n",
    "from yahooquery import Ticker\n",
    "from yahooquery import Screener\n",
    "import pandas as pd\n",
    "\n",
    "ticker_num = '8267.T'\n",
    "ticker_data = Ticker(ticker_num)\n",
    "# 貸借対照表を取得する\n",
    "# 取得したデータはDataframe形式\n",
    "ticker_balance_sheet = ticker_data.balance_sheet()\n",
    "display(ticker_balance_sheet)"
   ],
   "metadata": {
    "collapsed": false,
    "ExecuteTime": {
     "end_time": "2024-03-03T02:29:33.735467Z",
     "start_time": "2024-03-03T02:29:26.839807Z"
    }
   },
   "id": "6d6c37b18dc67656",
   "execution_count": 4
  },
  {
   "cell_type": "code",
   "outputs": [],
   "source": [],
   "metadata": {
    "collapsed": false,
    "ExecuteTime": {
     "end_time": "2024-03-03T02:22:20.304627Z",
     "start_time": "2024-03-03T02:22:20.236408Z"
    }
   },
   "id": "d6223ccec249a8de",
   "execution_count": 2
  },
  {
   "cell_type": "code",
   "outputs": [],
   "source": [],
   "metadata": {
    "collapsed": false
   },
   "id": "fcf1d75617b816c"
  }
 ],
 "metadata": {
  "kernelspec": {
   "display_name": "Python 3",
   "language": "python",
   "name": "python3"
  },
  "language_info": {
   "codemirror_mode": {
    "name": "ipython",
    "version": 2
   },
   "file_extension": ".py",
   "mimetype": "text/x-python",
   "name": "python",
   "nbconvert_exporter": "python",
   "pygments_lexer": "ipython2",
   "version": "2.7.6"
  }
 },
 "nbformat": 4,
 "nbformat_minor": 5
}
